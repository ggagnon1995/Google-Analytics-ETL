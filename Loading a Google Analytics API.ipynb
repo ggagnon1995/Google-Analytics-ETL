{
 "cells": [
  {
   "cell_type": "markdown",
   "id": "e18789be",
   "metadata": {},
   "source": [
    "# Google Analytics Reporting API"
   ]
  },
  {
   "cell_type": "markdown",
   "id": "b0b11ab5",
   "metadata": {},
   "source": [
    "#### Steps for establishing credentials: \n",
    "#### 1: Create an analytics account\n",
    "#### 2: Create a project on Google Cloud\n",
    "#### 3: Enable Google Analytics Reporting API for this project\n",
    "#### 4: Create a service account for this project \n",
    "#### 5: Generate API keys for the service account \n",
    "#### 6: In the Analytics admin panel, give the service account read access\n"
   ]
  },
  {
   "cell_type": "code",
   "execution_count": 1,
   "id": "c3352ad1",
   "metadata": {},
   "outputs": [],
   "source": [
    "import numpy as np \n",
    "import pandas as pd\n",
    "from google.oauth2 import service_account \n",
    "## run \"pip install google\" then run \"pip install --upgrade google-api-python-client\" in the terminal window\n",
    "from apiclient.discovery import build"
   ]
  },
  {
   "cell_type": "code",
   "execution_count": 2,
   "id": "46082ee7",
   "metadata": {},
   "outputs": [],
   "source": [
    "def format_summary(response):\n",
    "    try:\n",
    "        # create row index\n",
    "        try: \n",
    "            row_index_names = response['reports'][0]['columnHeader']['dimensions']\n",
    "            row_index = [ element['dimensions'] for element in response['reports'][0]['data']['rows'] ]\n",
    "            row_index_named = pd.MultiIndex.from_arrays(np.transpose(np.array(row_index)), \n",
    "                                                        names = np.array(row_index_names))\n",
    "        except:\n",
    "            row_index_named = None\n",
    "        \n",
    "        # extract column names\n",
    "        summary_column_names = [item['name'] for item in response['reports'][0]\n",
    "                                ['columnHeader']['metricHeader']['metricHeaderEntries']]\n",
    "    \n",
    "        # extract table values\n",
    "        summary_values = [element['metrics'][0]['values'] for element in response['reports'][0]['data']['rows']]\n",
    "    \n",
    "        # combine. I used type 'float' because default is object, and as far as I know, all values are numeric\n",
    "        df = pd.DataFrame(data = np.array(summary_values), \n",
    "                          index = row_index_named, \n",
    "                          columns = summary_column_names).astype('float')\n",
    "    \n",
    "    except:\n",
    "        df = pd.DataFrame()\n",
    "        \n",
    "    return df\n",
    "\n",
    "def format_pivot(response):\n",
    "    try:\n",
    "        # extract table values\n",
    "        pivot_values = [item['metrics'][0]['pivotValueRegions'][0]['values'] for item in response['reports'][0]\n",
    "                        ['data']['rows']]\n",
    "        \n",
    "        # create column index\n",
    "        top_header = [item['dimensionValues'] for item in response['reports'][0]\n",
    "                      ['columnHeader']['metricHeader']['pivotHeaders'][0]['pivotHeaderEntries']]\n",
    "        column_metrics = [item['metric']['name'] for item in response['reports'][0]\n",
    "                          ['columnHeader']['metricHeader']['pivotHeaders'][0]['pivotHeaderEntries']]\n",
    "        array = np.concatenate((np.array(top_header),\n",
    "                                np.array(column_metrics).reshape((len(column_metrics),1))), \n",
    "                               axis = 1)\n",
    "        column_index = pd.MultiIndex.from_arrays(np.transpose(array))\n",
    "        \n",
    "        # create row index\n",
    "        try:\n",
    "            row_index_names = response['reports'][0]['columnHeader']['dimensions']\n",
    "            row_index = [ element['dimensions'] for element in response['reports'][0]['data']['rows'] ]\n",
    "            row_index_named = pd.MultiIndex.from_arrays(np.transpose(np.array(row_index)), \n",
    "                                                        names = np.array(row_index_names))\n",
    "        except: \n",
    "            row_index_named = None\n",
    "        # combine into a dataframe\n",
    "        df = pd.DataFrame(data = np.array(pivot_values), \n",
    "                          index = row_index_named, \n",
    "                          columns = column_index).astype('float')\n",
    "    except:\n",
    "        df = pd.DataFrame()\n",
    "    return df\n",
    "\n",
    "def format_report(response):\n",
    "    summary = format_summary(response)\n",
    "    pivot = format_pivot(response)\n",
    "    if pivot.columns.nlevels == 2:\n",
    "        summary.columns = [['']*len(summary.columns), summary.columns]\n",
    "    \n",
    "    return(pd.concat([summary, pivot], axis = 1))\n",
    "\n",
    "def run_report(body, credentials_file):\n",
    "    #Create service credentials\n",
    "    credentials = service_account.Credentials.from_service_account_file(credentials_file, \n",
    "                                scopes = ['https://www.googleapis.com/auth/analytics.readonly'])\n",
    "    #Create a service object\n",
    "    service = build('analyticsreporting', 'v4', credentials=credentials)\n",
    "    \n",
    "    #Get GA data\n",
    "    response = service.reports().batchGet(body=body).execute()\n",
    "    \n",
    "    return(format_report(response))\n"
   ]
  },
  {
   "cell_type": "code",
   "execution_count": 3,
   "id": "7a72c0d1",
   "metadata": {},
   "outputs": [],
   "source": [
    "your_view_id = '#####'\n",
    "ga_keys = 'user_key.json'"
   ]
  },
  {
   "cell_type": "code",
   "execution_count": 4,
   "id": "143c2759",
   "metadata": {},
   "outputs": [],
   "source": [
    "body = {'reportRequests': [{'viewId': your_view_id, \n",
    "                            'dateRanges': [{'startDate': '2021-01-01', 'endDate': '2021-04-30'}],\n",
    "                            'metrics': [{'expression': 'ga:users'}, \n",
    "                                        {\"expression\": \"ga:bounceRate\"}],\n",
    "                            'dimensions': [{'name': 'ga:yearMonth'}],\n",
    "                            \"pivots\": [{\"dimensions\": [{\"name\": \"ga:channelGrouping\"}],\n",
    "                                        \"metrics\": [{\"expression\": \"ga:users\"},\n",
    "                                                    {\"expression\": \"ga:bounceRate\"}]\n",
    "                                       }]\n",
    "                          }]}"
   ]
  },
  {
   "cell_type": "code",
   "execution_count": 5,
   "id": "f2094717",
   "metadata": {},
   "outputs": [],
   "source": [
    "summary_body = {'reportRequests': [{'viewId': your_view_id, \n",
    "                            'dateRanges': [{'startDate': '2021-01-01', 'endDate': '2021-02-28'}],\n",
    "                            'metrics': [{'expression': 'ga:sessions'}, \n",
    "                                        {'expression': 'ga:totalEvents'}, \n",
    "                                        {\"expression\": \"ga:avgSessionDuration\"}],\n",
    "                            'dimensions': [{'name': 'ga:country'}],\n",
    "                          }]}"
   ]
  },
  {
   "cell_type": "code",
   "execution_count": 6,
   "id": "3d66db57",
   "metadata": {},
   "outputs": [],
   "source": [
    "pivot_body = {'reportRequests': [{'viewId': your_view_id, \n",
    "                            'dateRanges': [{'startDate': '2021-01-01', 'endDate': '2021-02-28'}],\n",
    "                            'dimensions': [{'name':  \"ga:channelGrouping\"}],\n",
    "                            \"pivots\": [{\"dimensions\": [{\"name\": 'ga:yearMonth'}],\n",
    "                                        \"metrics\": [{\"expression\": \"ga:users\"},\n",
    "                                                    {\"expression\": \"ga:newUsers\"},\n",
    "                                                    {\"expression\": \"ga:timeOnPage\"}]\n",
    "                                       }]\n",
    "                          }]}"
   ]
  },
  {
   "cell_type": "code",
   "execution_count": 7,
   "id": "5acacbcf",
   "metadata": {},
   "outputs": [],
   "source": [
    "short_body = {  \"reportRequests\":\n",
    "  [{\n",
    "      \"viewId\": your_view_id,\n",
    "      \"dateRanges\": [{\"startDate\": \"7daysAgo\", \"endDate\": \"yesterday\"}],\n",
    "      \"metrics\": [{\"expression\": \"ga:users\"}]\n",
    "    }]}"
   ]
  },
  {
   "cell_type": "code",
   "execution_count": 8,
   "id": "0562cc0d",
   "metadata": {},
   "outputs": [],
   "source": [
    "untidy_body = {'reportRequests': [{'viewId': your_view_id, \n",
    "                            'dateRanges': [{'startDate': '2021-01-01', 'endDate': '2021-02-28'}],\n",
    "                            \"pivots\": [{\"dimensions\": [{\"name\": 'ga:yearMonth'}, {\"name\": \"ga:channelGrouping\"}],\n",
    "                                        \"metrics\": [{\"expression\": \"ga:users\"},\n",
    "                                                    {\"expression\": \"ga:timeOnPage\"}]\n",
    "                                       }]\n",
    "                          }]}"
   ]
  },
  {
   "cell_type": "code",
   "execution_count": 9,
   "id": "c8d20635",
   "metadata": {},
   "outputs": [
    {
     "ename": "HttpError",
     "evalue": "<HttpError 403 when requesting https://analyticsreporting.googleapis.com/v4/reports:batchGet?alt=json returned \"User does not have sufficient permissions for this profile.\". Details: \"User does not have sufficient permissions for this profile.\">",
     "output_type": "error",
     "traceback": [
      "\u001b[0;31m---------------------------------------------------------------------------\u001b[0m",
      "\u001b[0;31mHttpError\u001b[0m                                 Traceback (most recent call last)",
      "\u001b[0;32m/var/folders/kl/qjwkkx690z5240hbdl9fq7fh0000gn/T/ipykernel_34728/1702095285.py\u001b[0m in \u001b[0;36m<module>\u001b[0;34m\u001b[0m\n\u001b[0;32m----> 1\u001b[0;31m \u001b[0mga_report\u001b[0m \u001b[0;34m=\u001b[0m \u001b[0mrun_report\u001b[0m\u001b[0;34m(\u001b[0m\u001b[0mbody\u001b[0m\u001b[0;34m,\u001b[0m \u001b[0mga_keys\u001b[0m\u001b[0;34m)\u001b[0m\u001b[0;34m\u001b[0m\u001b[0;34m\u001b[0m\u001b[0m\n\u001b[0m\u001b[1;32m      2\u001b[0m \u001b[0mga_report\u001b[0m\u001b[0;34m\u001b[0m\u001b[0;34m\u001b[0m\u001b[0m\n",
      "\u001b[0;32m/var/folders/kl/qjwkkx690z5240hbdl9fq7fh0000gn/T/ipykernel_34728/4044629936.py\u001b[0m in \u001b[0;36mrun_report\u001b[0;34m(body, credentials_file)\u001b[0m\n\u001b[1;32m     75\u001b[0m \u001b[0;34m\u001b[0m\u001b[0m\n\u001b[1;32m     76\u001b[0m     \u001b[0;31m#Get GA data\u001b[0m\u001b[0;34m\u001b[0m\u001b[0;34m\u001b[0m\u001b[0m\n\u001b[0;32m---> 77\u001b[0;31m     \u001b[0mresponse\u001b[0m \u001b[0;34m=\u001b[0m \u001b[0mservice\u001b[0m\u001b[0;34m.\u001b[0m\u001b[0mreports\u001b[0m\u001b[0;34m(\u001b[0m\u001b[0;34m)\u001b[0m\u001b[0;34m.\u001b[0m\u001b[0mbatchGet\u001b[0m\u001b[0;34m(\u001b[0m\u001b[0mbody\u001b[0m\u001b[0;34m=\u001b[0m\u001b[0mbody\u001b[0m\u001b[0;34m)\u001b[0m\u001b[0;34m.\u001b[0m\u001b[0mexecute\u001b[0m\u001b[0;34m(\u001b[0m\u001b[0;34m)\u001b[0m\u001b[0;34m\u001b[0m\u001b[0;34m\u001b[0m\u001b[0m\n\u001b[0m\u001b[1;32m     78\u001b[0m \u001b[0;34m\u001b[0m\u001b[0m\n\u001b[1;32m     79\u001b[0m     \u001b[0;32mreturn\u001b[0m\u001b[0;34m(\u001b[0m\u001b[0mformat_report\u001b[0m\u001b[0;34m(\u001b[0m\u001b[0mresponse\u001b[0m\u001b[0;34m)\u001b[0m\u001b[0;34m)\u001b[0m\u001b[0;34m\u001b[0m\u001b[0;34m\u001b[0m\u001b[0m\n",
      "\u001b[0;32m~/opt/anaconda3/lib/python3.9/site-packages/googleapiclient/_helpers.py\u001b[0m in \u001b[0;36mpositional_wrapper\u001b[0;34m(*args, **kwargs)\u001b[0m\n\u001b[1;32m    128\u001b[0m                 \u001b[0;32melif\u001b[0m \u001b[0mpositional_parameters_enforcement\u001b[0m \u001b[0;34m==\u001b[0m \u001b[0mPOSITIONAL_WARNING\u001b[0m\u001b[0;34m:\u001b[0m\u001b[0;34m\u001b[0m\u001b[0;34m\u001b[0m\u001b[0m\n\u001b[1;32m    129\u001b[0m                     \u001b[0mlogger\u001b[0m\u001b[0;34m.\u001b[0m\u001b[0mwarning\u001b[0m\u001b[0;34m(\u001b[0m\u001b[0mmessage\u001b[0m\u001b[0;34m)\u001b[0m\u001b[0;34m\u001b[0m\u001b[0;34m\u001b[0m\u001b[0m\n\u001b[0;32m--> 130\u001b[0;31m             \u001b[0;32mreturn\u001b[0m \u001b[0mwrapped\u001b[0m\u001b[0;34m(\u001b[0m\u001b[0;34m*\u001b[0m\u001b[0margs\u001b[0m\u001b[0;34m,\u001b[0m \u001b[0;34m**\u001b[0m\u001b[0mkwargs\u001b[0m\u001b[0;34m)\u001b[0m\u001b[0;34m\u001b[0m\u001b[0;34m\u001b[0m\u001b[0m\n\u001b[0m\u001b[1;32m    131\u001b[0m \u001b[0;34m\u001b[0m\u001b[0m\n\u001b[1;32m    132\u001b[0m         \u001b[0;32mreturn\u001b[0m \u001b[0mpositional_wrapper\u001b[0m\u001b[0;34m\u001b[0m\u001b[0;34m\u001b[0m\u001b[0m\n",
      "\u001b[0;32m~/opt/anaconda3/lib/python3.9/site-packages/googleapiclient/http.py\u001b[0m in \u001b[0;36mexecute\u001b[0;34m(self, http, num_retries)\u001b[0m\n\u001b[1;32m    936\u001b[0m             \u001b[0mcallback\u001b[0m\u001b[0;34m(\u001b[0m\u001b[0mresp\u001b[0m\u001b[0;34m)\u001b[0m\u001b[0;34m\u001b[0m\u001b[0;34m\u001b[0m\u001b[0m\n\u001b[1;32m    937\u001b[0m         \u001b[0;32mif\u001b[0m \u001b[0mresp\u001b[0m\u001b[0;34m.\u001b[0m\u001b[0mstatus\u001b[0m \u001b[0;34m>=\u001b[0m \u001b[0;36m300\u001b[0m\u001b[0;34m:\u001b[0m\u001b[0;34m\u001b[0m\u001b[0;34m\u001b[0m\u001b[0m\n\u001b[0;32m--> 938\u001b[0;31m             \u001b[0;32mraise\u001b[0m \u001b[0mHttpError\u001b[0m\u001b[0;34m(\u001b[0m\u001b[0mresp\u001b[0m\u001b[0;34m,\u001b[0m \u001b[0mcontent\u001b[0m\u001b[0;34m,\u001b[0m \u001b[0muri\u001b[0m\u001b[0;34m=\u001b[0m\u001b[0mself\u001b[0m\u001b[0;34m.\u001b[0m\u001b[0muri\u001b[0m\u001b[0;34m)\u001b[0m\u001b[0;34m\u001b[0m\u001b[0;34m\u001b[0m\u001b[0m\n\u001b[0m\u001b[1;32m    939\u001b[0m         \u001b[0;32mreturn\u001b[0m \u001b[0mself\u001b[0m\u001b[0;34m.\u001b[0m\u001b[0mpostproc\u001b[0m\u001b[0;34m(\u001b[0m\u001b[0mresp\u001b[0m\u001b[0;34m,\u001b[0m \u001b[0mcontent\u001b[0m\u001b[0;34m)\u001b[0m\u001b[0;34m\u001b[0m\u001b[0;34m\u001b[0m\u001b[0m\n\u001b[1;32m    940\u001b[0m \u001b[0;34m\u001b[0m\u001b[0m\n",
      "\u001b[0;31mHttpError\u001b[0m: <HttpError 403 when requesting https://analyticsreporting.googleapis.com/v4/reports:batchGet?alt=json returned \"User does not have sufficient permissions for this profile.\". Details: \"User does not have sufficient permissions for this profile.\">"
     ]
    }
   ],
   "source": [
    "ga_report = run_report(body, ga_keys)\n",
    "ga_report"
   ]
  },
  {
   "cell_type": "code",
   "execution_count": null,
   "id": "4866104a",
   "metadata": {},
   "outputs": [],
   "source": []
  }
 ],
 "metadata": {
  "kernelspec": {
   "display_name": "Python 3 (ipykernel)",
   "language": "python",
   "name": "python3"
  },
  "language_info": {
   "codemirror_mode": {
    "name": "ipython",
    "version": 3
   },
   "file_extension": ".py",
   "mimetype": "text/x-python",
   "name": "python",
   "nbconvert_exporter": "python",
   "pygments_lexer": "ipython3",
   "version": "3.9.7"
  }
 },
 "nbformat": 4,
 "nbformat_minor": 5
}
